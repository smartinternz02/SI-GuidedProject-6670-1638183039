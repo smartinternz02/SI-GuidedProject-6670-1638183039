{
 "cells": [
  {
   "cell_type": "markdown",
   "id": "c134cf1a",
   "metadata": {},
   "source": [
    "# HR Employee Attrition"
   ]
  },
  {
   "cell_type": "code",
   "execution_count": 26,
   "id": "daf6c270",
   "metadata": {},
   "outputs": [],
   "source": [
    "import pandas as pd\n",
    "import numpy as np\n",
    "from matplotlib import pyplot as pyp"
   ]
  },
  {
   "cell_type": "code",
   "execution_count": 27,
   "id": "66b6a2fb",
   "metadata": {},
   "outputs": [],
   "source": [
    "df=pd.read_csv(r\"WA_Fn_UseC_HR_Employee_Attrition.csv\")"
   ]
  },
  {
   "cell_type": "code",
   "execution_count": 28,
   "id": "98821812",
   "metadata": {},
   "outputs": [
    {
     "data": {
      "text/html": [
       "<div>\n",
       "<style scoped>\n",
       "    .dataframe tbody tr th:only-of-type {\n",
       "        vertical-align: middle;\n",
       "    }\n",
       "\n",
       "    .dataframe tbody tr th {\n",
       "        vertical-align: top;\n",
       "    }\n",
       "\n",
       "    .dataframe thead th {\n",
       "        text-align: right;\n",
       "    }\n",
       "</style>\n",
       "<table border=\"1\" class=\"dataframe\">\n",
       "  <thead>\n",
       "    <tr style=\"text-align: right;\">\n",
       "      <th></th>\n",
       "      <th>Age</th>\n",
       "      <th>Attrition</th>\n",
       "      <th>BusinessTravel</th>\n",
       "      <th>DailyRate</th>\n",
       "      <th>EducationField</th>\n",
       "      <th>MaritalStatus</th>\n",
       "      <th>Gender</th>\n",
       "      <th>HourlyRate</th>\n",
       "      <th>JobRole</th>\n",
       "      <th>JobSatisfaction</th>\n",
       "      <th>MonthlyIncome</th>\n",
       "      <th>OverTime</th>\n",
       "      <th>PercentSalaryHike</th>\n",
       "    </tr>\n",
       "  </thead>\n",
       "  <tbody>\n",
       "    <tr>\n",
       "      <th>0</th>\n",
       "      <td>41</td>\n",
       "      <td>Yes</td>\n",
       "      <td>Travel_Rarely</td>\n",
       "      <td>1102</td>\n",
       "      <td>Life Sciences</td>\n",
       "      <td>Single</td>\n",
       "      <td>Female</td>\n",
       "      <td>94</td>\n",
       "      <td>Sales Executive</td>\n",
       "      <td>4</td>\n",
       "      <td>5993</td>\n",
       "      <td>Yes</td>\n",
       "      <td>11</td>\n",
       "    </tr>\n",
       "    <tr>\n",
       "      <th>1</th>\n",
       "      <td>49</td>\n",
       "      <td>No</td>\n",
       "      <td>Travel_Frequently</td>\n",
       "      <td>279</td>\n",
       "      <td>Life Sciences</td>\n",
       "      <td>Married</td>\n",
       "      <td>Male</td>\n",
       "      <td>61</td>\n",
       "      <td>Research Scientist</td>\n",
       "      <td>2</td>\n",
       "      <td>5130</td>\n",
       "      <td>No</td>\n",
       "      <td>23</td>\n",
       "    </tr>\n",
       "    <tr>\n",
       "      <th>2</th>\n",
       "      <td>37</td>\n",
       "      <td>Yes</td>\n",
       "      <td>Travel_Rarely</td>\n",
       "      <td>1373</td>\n",
       "      <td>Other</td>\n",
       "      <td>Single</td>\n",
       "      <td>Male</td>\n",
       "      <td>92</td>\n",
       "      <td>Laboratory Technician</td>\n",
       "      <td>3</td>\n",
       "      <td>2090</td>\n",
       "      <td>Yes</td>\n",
       "      <td>15</td>\n",
       "    </tr>\n",
       "    <tr>\n",
       "      <th>3</th>\n",
       "      <td>33</td>\n",
       "      <td>No</td>\n",
       "      <td>Travel_Frequently</td>\n",
       "      <td>1392</td>\n",
       "      <td>Life Sciences</td>\n",
       "      <td>Married</td>\n",
       "      <td>Female</td>\n",
       "      <td>56</td>\n",
       "      <td>Research Scientist</td>\n",
       "      <td>3</td>\n",
       "      <td>2909</td>\n",
       "      <td>Yes</td>\n",
       "      <td>11</td>\n",
       "    </tr>\n",
       "    <tr>\n",
       "      <th>4</th>\n",
       "      <td>27</td>\n",
       "      <td>No</td>\n",
       "      <td>Travel_Rarely</td>\n",
       "      <td>591</td>\n",
       "      <td>Medical</td>\n",
       "      <td>Married</td>\n",
       "      <td>Male</td>\n",
       "      <td>40</td>\n",
       "      <td>Laboratory Technician</td>\n",
       "      <td>2</td>\n",
       "      <td>3468</td>\n",
       "      <td>No</td>\n",
       "      <td>12</td>\n",
       "    </tr>\n",
       "  </tbody>\n",
       "</table>\n",
       "</div>"
      ],
      "text/plain": [
       "   Age Attrition     BusinessTravel  DailyRate EducationField MaritalStatus  \\\n",
       "0   41       Yes      Travel_Rarely       1102  Life Sciences        Single   \n",
       "1   49        No  Travel_Frequently        279  Life Sciences       Married   \n",
       "2   37       Yes      Travel_Rarely       1373          Other        Single   \n",
       "3   33        No  Travel_Frequently       1392  Life Sciences       Married   \n",
       "4   27        No      Travel_Rarely        591        Medical       Married   \n",
       "\n",
       "   Gender  HourlyRate                JobRole  JobSatisfaction  MonthlyIncome  \\\n",
       "0  Female          94        Sales Executive                4           5993   \n",
       "1    Male          61     Research Scientist                2           5130   \n",
       "2    Male          92  Laboratory Technician                3           2090   \n",
       "3  Female          56     Research Scientist                3           2909   \n",
       "4    Male          40  Laboratory Technician                2           3468   \n",
       "\n",
       "  OverTime  PercentSalaryHike  \n",
       "0      Yes                 11  \n",
       "1       No                 23  \n",
       "2      Yes                 15  \n",
       "3      Yes                 11  \n",
       "4       No                 12  "
      ]
     },
     "execution_count": 28,
     "metadata": {},
     "output_type": "execute_result"
    }
   ],
   "source": [
    "df.head()"
   ]
  },
  {
   "cell_type": "code",
   "execution_count": 29,
   "id": "f32c7e88",
   "metadata": {},
   "outputs": [
    {
     "name": "stdout",
     "output_type": "stream",
     "text": [
      "<class 'pandas.core.frame.DataFrame'>\n",
      "RangeIndex: 712 entries, 0 to 711\n",
      "Data columns (total 13 columns):\n",
      " #   Column             Non-Null Count  Dtype \n",
      "---  ------             --------------  ----- \n",
      " 0   Age                712 non-null    int64 \n",
      " 1   Attrition          712 non-null    object\n",
      " 2   BusinessTravel     712 non-null    object\n",
      " 3   DailyRate          712 non-null    int64 \n",
      " 4   EducationField     712 non-null    object\n",
      " 5   MaritalStatus      712 non-null    object\n",
      " 6   Gender             712 non-null    object\n",
      " 7   HourlyRate         712 non-null    int64 \n",
      " 8   JobRole            712 non-null    object\n",
      " 9   JobSatisfaction    712 non-null    int64 \n",
      " 10  MonthlyIncome      712 non-null    int64 \n",
      " 11  OverTime           712 non-null    object\n",
      " 12  PercentSalaryHike  712 non-null    int64 \n",
      "dtypes: int64(6), object(7)\n",
      "memory usage: 72.4+ KB\n"
     ]
    }
   ],
   "source": [
    "df.info()"
   ]
  },
  {
   "cell_type": "code",
   "execution_count": 30,
   "id": "5a31eaf8",
   "metadata": {},
   "outputs": [
    {
     "data": {
      "text/plain": [
       "Age                  0\n",
       "Attrition            0\n",
       "BusinessTravel       0\n",
       "DailyRate            0\n",
       "EducationField       0\n",
       "MaritalStatus        0\n",
       "Gender               0\n",
       "HourlyRate           0\n",
       "JobRole              0\n",
       "JobSatisfaction      0\n",
       "MonthlyIncome        0\n",
       "OverTime             0\n",
       "PercentSalaryHike    0\n",
       "dtype: int64"
      ]
     },
     "execution_count": 30,
     "metadata": {},
     "output_type": "execute_result"
    }
   ],
   "source": [
    "df.isnull().sum()"
   ]
  },
  {
   "cell_type": "code",
   "execution_count": 31,
   "id": "35a1b389",
   "metadata": {},
   "outputs": [
    {
     "data": {
      "text/html": [
       "<div>\n",
       "<style scoped>\n",
       "    .dataframe tbody tr th:only-of-type {\n",
       "        vertical-align: middle;\n",
       "    }\n",
       "\n",
       "    .dataframe tbody tr th {\n",
       "        vertical-align: top;\n",
       "    }\n",
       "\n",
       "    .dataframe thead th {\n",
       "        text-align: right;\n",
       "    }\n",
       "</style>\n",
       "<table border=\"1\" class=\"dataframe\">\n",
       "  <thead>\n",
       "    <tr style=\"text-align: right;\">\n",
       "      <th></th>\n",
       "      <th>Age</th>\n",
       "      <th>DailyRate</th>\n",
       "      <th>HourlyRate</th>\n",
       "      <th>JobSatisfaction</th>\n",
       "      <th>MonthlyIncome</th>\n",
       "      <th>PercentSalaryHike</th>\n",
       "    </tr>\n",
       "  </thead>\n",
       "  <tbody>\n",
       "    <tr>\n",
       "      <th>count</th>\n",
       "      <td>712.000000</td>\n",
       "      <td>712.000000</td>\n",
       "      <td>712.000000</td>\n",
       "      <td>712.000000</td>\n",
       "      <td>712.000000</td>\n",
       "      <td>712.000000</td>\n",
       "    </tr>\n",
       "    <tr>\n",
       "      <th>mean</th>\n",
       "      <td>36.872191</td>\n",
       "      <td>818.675562</td>\n",
       "      <td>64.901685</td>\n",
       "      <td>2.787921</td>\n",
       "      <td>6439.557584</td>\n",
       "      <td>15.292135</td>\n",
       "    </tr>\n",
       "    <tr>\n",
       "      <th>std</th>\n",
       "      <td>9.319713</td>\n",
       "      <td>404.784449</td>\n",
       "      <td>20.444536</td>\n",
       "      <td>1.102979</td>\n",
       "      <td>4659.566365</td>\n",
       "      <td>3.734741</td>\n",
       "    </tr>\n",
       "    <tr>\n",
       "      <th>min</th>\n",
       "      <td>18.000000</td>\n",
       "      <td>102.000000</td>\n",
       "      <td>30.000000</td>\n",
       "      <td>1.000000</td>\n",
       "      <td>1009.000000</td>\n",
       "      <td>11.000000</td>\n",
       "    </tr>\n",
       "    <tr>\n",
       "      <th>25%</th>\n",
       "      <td>30.000000</td>\n",
       "      <td>488.750000</td>\n",
       "      <td>47.000000</td>\n",
       "      <td>2.000000</td>\n",
       "      <td>2847.250000</td>\n",
       "      <td>12.000000</td>\n",
       "    </tr>\n",
       "    <tr>\n",
       "      <th>50%</th>\n",
       "      <td>36.000000</td>\n",
       "      <td>822.000000</td>\n",
       "      <td>65.000000</td>\n",
       "      <td>3.000000</td>\n",
       "      <td>4922.000000</td>\n",
       "      <td>14.000000</td>\n",
       "    </tr>\n",
       "    <tr>\n",
       "      <th>75%</th>\n",
       "      <td>43.000000</td>\n",
       "      <td>1184.000000</td>\n",
       "      <td>82.000000</td>\n",
       "      <td>4.000000</td>\n",
       "      <td>7981.750000</td>\n",
       "      <td>18.000000</td>\n",
       "    </tr>\n",
       "    <tr>\n",
       "      <th>max</th>\n",
       "      <td>60.000000</td>\n",
       "      <td>1499.000000</td>\n",
       "      <td>100.000000</td>\n",
       "      <td>4.000000</td>\n",
       "      <td>19999.000000</td>\n",
       "      <td>25.000000</td>\n",
       "    </tr>\n",
       "  </tbody>\n",
       "</table>\n",
       "</div>"
      ],
      "text/plain": [
       "              Age    DailyRate  HourlyRate  JobSatisfaction  MonthlyIncome  \\\n",
       "count  712.000000   712.000000  712.000000       712.000000     712.000000   \n",
       "mean    36.872191   818.675562   64.901685         2.787921    6439.557584   \n",
       "std      9.319713   404.784449   20.444536         1.102979    4659.566365   \n",
       "min     18.000000   102.000000   30.000000         1.000000    1009.000000   \n",
       "25%     30.000000   488.750000   47.000000         2.000000    2847.250000   \n",
       "50%     36.000000   822.000000   65.000000         3.000000    4922.000000   \n",
       "75%     43.000000  1184.000000   82.000000         4.000000    7981.750000   \n",
       "max     60.000000  1499.000000  100.000000         4.000000   19999.000000   \n",
       "\n",
       "       PercentSalaryHike  \n",
       "count         712.000000  \n",
       "mean           15.292135  \n",
       "std             3.734741  \n",
       "min            11.000000  \n",
       "25%            12.000000  \n",
       "50%            14.000000  \n",
       "75%            18.000000  \n",
       "max            25.000000  "
      ]
     },
     "execution_count": 31,
     "metadata": {},
     "output_type": "execute_result"
    }
   ],
   "source": [
    "df.describe()"
   ]
  },
  {
   "cell_type": "markdown",
   "id": "78b52cc7",
   "metadata": {},
   "source": [
    "# Data Visualization"
   ]
  },
  {
   "cell_type": "code",
   "execution_count": 32,
   "id": "740126ae",
   "metadata": {},
   "outputs": [
    {
     "data": {
      "text/plain": [
       "<matplotlib.collections.PathCollection at 0x1fae4bc4730>"
      ]
     },
     "execution_count": 32,
     "metadata": {},
     "output_type": "execute_result"
    },
    {
     "data": {
      "image/png": "[encoded data removed]",
      "text/plain": [
       "<Figure size 432x288 with 1 Axes>"
      ]
     },
     "metadata": {
      "needs_background": "light"
     },
     "output_type": "display_data"
    }
   ],
   "source": [
    "pyp.scatter(df.JobRole,df.MonthlyIncome)"
   ]
  },
  {
   "cell_type": "code",
   "execution_count": 33,
   "id": "13505d63",
   "metadata": {},
   "outputs": [],
   "source": [
    "import seaborn as sns"
   ]
  },
  {
   "cell_type": "code",
   "execution_count": 34,
   "id": "4b8a7d7e",
   "metadata": {},
   "outputs": [
    {
     "data": {
      "text/plain": [
       "<seaborn.axisgrid.FacetGrid at 0x1fae4b967f0>"
      ]
     },
     "execution_count": 34,
     "metadata": {},
     "output_type": "execute_result"
    },
    {
     "data": {
      "image/png": "[encoded data removed]",
      "text/plain": [
       "<Figure size 528.875x360 with 1 Axes>"
      ]
     },
     "metadata": {
      "needs_background": "light"
     },
     "output_type": "display_data"
    }
   ],
   "source": [
    "sns.relplot(data=df,x='JobRole',y='MonthlyIncome',hue='JobRole')"
   ]
  },
  {
   "cell_type": "code",
   "execution_count": 35,
   "id": "a861a5a0",
   "metadata": {},
   "outputs": [],
   "source": [
    "corr=df.corr()"
   ]
  },
  {
   "cell_type": "code",
   "execution_count": 36,
   "id": "267d1889",
   "metadata": {},
   "outputs": [
    {
     "data": {
      "text/plain": [
       "<AxesSubplot:>"
      ]
     },
     "execution_count": 36,
     "metadata": {},
     "output_type": "execute_result"
    },
    {
     "data": {
      "image/png": "[encoded data removed]",
      "text/plain": [
       "<Figure size 432x288 with 2 Axes>"
      ]
     },
     "metadata": {
      "needs_background": "light"
     },
     "output_type": "display_data"
    }
   ],
   "source": [
    "sns.heatmap(corr,linewidth=1,cmap=\"viridis\",annot=True)"
   ]
  },
  {
   "cell_type": "markdown",
   "id": "795f470f",
   "metadata": {},
   "source": [
    "# Finding the count of Objects"
   ]
  },
  {
   "cell_type": "code",
   "execution_count": 37,
   "id": "b3bb1005",
   "metadata": {},
   "outputs": [
    {
     "data": {
      "text/plain": [
       "Life Sciences       290\n",
       "Medical             225\n",
       "Marketing            83\n",
       "Technical Degree     62\n",
       "Other                40\n",
       "Human Resources      12\n",
       "Name: EducationField, dtype: int64"
      ]
     },
     "execution_count": 37,
     "metadata": {},
     "output_type": "execute_result"
    }
   ],
   "source": [
    "df.EducationField.value_counts()"
   ]
  },
  {
   "cell_type": "code",
   "execution_count": 38,
   "id": "ecd2c06e",
   "metadata": {},
   "outputs": [
    {
     "data": {
      "text/plain": [
       "Married     312\n",
       "Single      234\n",
       "Divorced    166\n",
       "Name: MaritalStatus, dtype: int64"
      ]
     },
     "execution_count": 38,
     "metadata": {},
     "output_type": "execute_result"
    }
   ],
   "source": [
    "df.MaritalStatus.value_counts()"
   ]
  },
  {
   "cell_type": "code",
   "execution_count": 39,
   "id": "e99f0935",
   "metadata": {},
   "outputs": [
    {
     "data": {
      "text/plain": [
       "Male      423\n",
       "Female    289\n",
       "Name: Gender, dtype: int64"
      ]
     },
     "execution_count": 39,
     "metadata": {},
     "output_type": "execute_result"
    }
   ],
   "source": [
    "df.Gender.value_counts()"
   ]
  },
  {
   "cell_type": "code",
   "execution_count": 40,
   "id": "6d0d86a7",
   "metadata": {},
   "outputs": [
    {
     "data": {
      "text/plain": [
       "Sales Executive              161\n",
       "Research Scientist           145\n",
       "Laboratory Technician        123\n",
       "Manufacturing Director        70\n",
       "Healthcare Representative     58\n",
       "Manager                       53\n",
       "Sales Representative          44\n",
       "Research Director             39\n",
       "Human Resources               19\n",
       "Name: JobRole, dtype: int64"
      ]
     },
     "execution_count": 40,
     "metadata": {},
     "output_type": "execute_result"
    }
   ],
   "source": [
    "df.JobRole.value_counts()"
   ]
  },
  {
   "cell_type": "code",
   "execution_count": 41,
   "id": "664c8807",
   "metadata": {},
   "outputs": [
    {
     "data": {
      "text/plain": [
       "11    105\n",
       "13     98\n",
       "12     95\n",
       "14     92\n",
       "15     47\n",
       "18     46\n",
       "16     40\n",
       "19     38\n",
       "17     34\n",
       "22     30\n",
       "20     26\n",
       "21     25\n",
       "23     17\n",
       "24     13\n",
       "25      6\n",
       "Name: PercentSalaryHike, dtype: int64"
      ]
     },
     "execution_count": 41,
     "metadata": {},
     "output_type": "execute_result"
    }
   ],
   "source": [
    "df.PercentSalaryHike.value_counts()"
   ]
  },
  {
   "cell_type": "markdown",
   "id": "30b6dd76",
   "metadata": {},
   "source": [
    "# Deleting the unwanted data"
   ]
  },
  {
   "cell_type": "code",
   "execution_count": 42,
   "id": "d9c9656e",
   "metadata": {},
   "outputs": [],
   "source": [
    "df=df.drop([\"Attrition\"],axis=1)"
   ]
  },
  {
   "cell_type": "code",
   "execution_count": 43,
   "id": "6e84cb06",
   "metadata": {},
   "outputs": [],
   "source": [
    "df=df.drop([\"BusinessTravel\"],axis=1)"
   ]
  },
  {
   "cell_type": "code",
   "execution_count": 44,
   "id": "b62352e2",
   "metadata": {},
   "outputs": [],
   "source": [
    "df=df.drop([\"MaritalStatus\"],axis=1)"
   ]
  },
  {
   "cell_type": "markdown",
   "id": "2c269a7d",
   "metadata": {},
   "source": [
    "# Data after cleaning"
   ]
  },
  {
   "cell_type": "code",
   "execution_count": 45,
   "id": "7b086bda",
   "metadata": {},
   "outputs": [
    {
     "data": {
      "text/html": [
       "<div>\n",
       "<style scoped>\n",
       "    .dataframe tbody tr th:only-of-type {\n",
       "        vertical-align: middle;\n",
       "    }\n",
       "\n",
       "    .dataframe tbody tr th {\n",
       "        vertical-align: top;\n",
       "    }\n",
       "\n",
       "    .dataframe thead th {\n",
       "        text-align: right;\n",
       "    }\n",
       "</style>\n",
       "<table border=\"1\" class=\"dataframe\">\n",
       "  <thead>\n",
       "    <tr style=\"text-align: right;\">\n",
       "      <th></th>\n",
       "      <th>Age</th>\n",
       "      <th>DailyRate</th>\n",
       "      <th>EducationField</th>\n",
       "      <th>Gender</th>\n",
       "      <th>HourlyRate</th>\n",
       "      <th>JobRole</th>\n",
       "      <th>JobSatisfaction</th>\n",
       "      <th>MonthlyIncome</th>\n",
       "      <th>OverTime</th>\n",
       "      <th>PercentSalaryHike</th>\n",
       "    </tr>\n",
       "  </thead>\n",
       "  <tbody>\n",
       "    <tr>\n",
       "      <th>0</th>\n",
       "      <td>41</td>\n",
       "      <td>1102</td>\n",
       "      <td>Life Sciences</td>\n",
       "      <td>Female</td>\n",
       "      <td>94</td>\n",
       "      <td>Sales Executive</td>\n",
       "      <td>4</td>\n",
       "      <td>5993</td>\n",
       "      <td>Yes</td>\n",
       "      <td>11</td>\n",
       "    </tr>\n",
       "    <tr>\n",
       "      <th>1</th>\n",
       "      <td>49</td>\n",
       "      <td>279</td>\n",
       "      <td>Life Sciences</td>\n",
       "      <td>Male</td>\n",
       "      <td>61</td>\n",
       "      <td>Research Scientist</td>\n",
       "      <td>2</td>\n",
       "      <td>5130</td>\n",
       "      <td>No</td>\n",
       "      <td>23</td>\n",
       "    </tr>\n",
       "    <tr>\n",
       "      <th>2</th>\n",
       "      <td>37</td>\n",
       "      <td>1373</td>\n",
       "      <td>Other</td>\n",
       "      <td>Male</td>\n",
       "      <td>92</td>\n",
       "      <td>Laboratory Technician</td>\n",
       "      <td>3</td>\n",
       "      <td>2090</td>\n",
       "      <td>Yes</td>\n",
       "      <td>15</td>\n",
       "    </tr>\n",
       "    <tr>\n",
       "      <th>3</th>\n",
       "      <td>33</td>\n",
       "      <td>1392</td>\n",
       "      <td>Life Sciences</td>\n",
       "      <td>Female</td>\n",
       "      <td>56</td>\n",
       "      <td>Research Scientist</td>\n",
       "      <td>3</td>\n",
       "      <td>2909</td>\n",
       "      <td>Yes</td>\n",
       "      <td>11</td>\n",
       "    </tr>\n",
       "    <tr>\n",
       "      <th>4</th>\n",
       "      <td>27</td>\n",
       "      <td>591</td>\n",
       "      <td>Medical</td>\n",
       "      <td>Male</td>\n",
       "      <td>40</td>\n",
       "      <td>Laboratory Technician</td>\n",
       "      <td>2</td>\n",
       "      <td>3468</td>\n",
       "      <td>No</td>\n",
       "      <td>12</td>\n",
       "    </tr>\n",
       "  </tbody>\n",
       "</table>\n",
       "</div>"
      ],
      "text/plain": [
       "   Age  DailyRate EducationField  Gender  HourlyRate                JobRole  \\\n",
       "0   41       1102  Life Sciences  Female          94        Sales Executive   \n",
       "1   49        279  Life Sciences    Male          61     Research Scientist   \n",
       "2   37       1373          Other    Male          92  Laboratory Technician   \n",
       "3   33       1392  Life Sciences  Female          56     Research Scientist   \n",
       "4   27        591        Medical    Male          40  Laboratory Technician   \n",
       "\n",
       "   JobSatisfaction  MonthlyIncome OverTime  PercentSalaryHike  \n",
       "0                4           5993      Yes                 11  \n",
       "1                2           5130       No                 23  \n",
       "2                3           2090      Yes                 15  \n",
       "3                3           2909      Yes                 11  \n",
       "4                2           3468       No                 12  "
      ]
     },
     "execution_count": 45,
     "metadata": {},
     "output_type": "execute_result"
    }
   ],
   "source": [
    "df.head()"
   ]
  },
  {
   "cell_type": "markdown",
   "id": "20f11a2e",
   "metadata": {},
   "source": [
    "# Preprocessing the data"
   ]
  },
  {
   "cell_type": "markdown",
   "id": "092b297a",
   "metadata": {},
   "source": [
    "# Lable Encoding"
   ]
  },
  {
   "cell_type": "code",
   "execution_count": 47,
   "id": "f050a8c7",
   "metadata": {},
   "outputs": [
    {
     "name": "stdout",
     "output_type": "stream",
     "text": [
      "Life Sciences       290\n",
      "Medical             225\n",
      "Marketing            83\n",
      "Technical Degree     62\n",
      "Other                40\n",
      "Human Resources      12\n",
      "Name: EducationField, dtype: int64\n"
     ]
    }
   ],
   "source": [
    "from sklearn.preprocessing import LabelEncoder\n",
    "le=LabelEncoder()\n",
    "print(df.EducationField.value_counts())\n"
   ]
  },
  {
   "cell_type": "code",
   "execution_count": 48,
   "id": "9b812f53",
   "metadata": {},
   "outputs": [
    {
     "name": "stdout",
     "output_type": "stream",
     "text": [
      "Sales Executive              161\n",
      "Research Scientist           145\n",
      "Laboratory Technician        123\n",
      "Manufacturing Director        70\n",
      "Healthcare Representative     58\n",
      "Manager                       53\n",
      "Sales Representative          44\n",
      "Research Director             39\n",
      "Human Resources               19\n",
      "Name: JobRole, dtype: int64\n"
     ]
    }
   ],
   "source": [
    "print(df.JobRole.value_counts())"
   ]
  },
  {
   "cell_type": "code",
   "execution_count": 49,
   "id": "70c99d1d",
   "metadata": {},
   "outputs": [
    {
     "name": "stdout",
     "output_type": "stream",
     "text": [
      "No     502\n",
      "Yes    210\n",
      "Name: OverTime, dtype: int64\n"
     ]
    }
   ],
   "source": [
    "print(df.OverTime.value_counts())"
   ]
  },
  {
   "cell_type": "code",
   "execution_count": 51,
   "id": "c5889ae2",
   "metadata": {},
   "outputs": [
    {
     "name": "stdout",
     "output_type": "stream",
     "text": [
      "1    290\n",
      "3    225\n",
      "2     83\n",
      "5     62\n",
      "4     40\n",
      "0     12\n",
      "Name: EducationField, dtype: int64\n"
     ]
    }
   ],
   "source": [
    "df.EducationField=le.fit_transform(df.EducationField)\n",
    "print(df.EducationField.value_counts())"
   ]
  },
  {
   "cell_type": "code",
   "execution_count": 52,
   "id": "50ed74da",
   "metadata": {},
   "outputs": [
    {
     "name": "stdout",
     "output_type": "stream",
     "text": [
      "7    161\n",
      "6    145\n",
      "2    123\n",
      "4     70\n",
      "0     58\n",
      "3     53\n",
      "8     44\n",
      "5     39\n",
      "1     19\n",
      "Name: JobRole, dtype: int64\n"
     ]
    }
   ],
   "source": [
    "df.JobRole=le.fit_transform(df.JobRole)\n",
    "print(df.JobRole.value_counts())"
   ]
  },
  {
   "cell_type": "code",
   "execution_count": 53,
   "id": "a264ec95",
   "metadata": {},
   "outputs": [
    {
     "name": "stdout",
     "output_type": "stream",
     "text": [
      "0    502\n",
      "1    210\n",
      "Name: OverTime, dtype: int64\n"
     ]
    }
   ],
   "source": [
    "df.OverTime=le.fit_transform(df.OverTime)\n",
    "print(df.OverTime.value_counts())"
   ]
  },
  {
   "cell_type": "code",
   "execution_count": 66,
   "id": "716b521f",
   "metadata": {},
   "outputs": [
    {
     "name": "stdout",
     "output_type": "stream",
     "text": [
      "1    423\n",
      "0    289\n",
      "Name: Gender, dtype: int64\n"
     ]
    }
   ],
   "source": [
    "df.Gender=le.fit_transform(df.Gender)\n",
    "print(df.Gender.value_counts())"
   ]
  },
  {
   "cell_type": "code",
   "execution_count": 67,
   "id": "e99e4da2",
   "metadata": {},
   "outputs": [
    {
     "data": {
      "text/html": [
       "<div>\n",
       "<style scoped>\n",
       "    .dataframe tbody tr th:only-of-type {\n",
       "        vertical-align: middle;\n",
       "    }\n",
       "\n",
       "    .dataframe tbody tr th {\n",
       "        vertical-align: top;\n",
       "    }\n",
       "\n",
       "    .dataframe thead th {\n",
       "        text-align: right;\n",
       "    }\n",
       "</style>\n",
       "<table border=\"1\" class=\"dataframe\">\n",
       "  <thead>\n",
       "    <tr style=\"text-align: right;\">\n",
       "      <th></th>\n",
       "      <th>Age</th>\n",
       "      <th>DailyRate</th>\n",
       "      <th>EducationField</th>\n",
       "      <th>Gender</th>\n",
       "      <th>HourlyRate</th>\n",
       "      <th>JobRole</th>\n",
       "      <th>JobSatisfaction</th>\n",
       "      <th>MonthlyIncome</th>\n",
       "      <th>OverTime</th>\n",
       "      <th>PercentSalaryHike</th>\n",
       "    </tr>\n",
       "  </thead>\n",
       "  <tbody>\n",
       "    <tr>\n",
       "      <th>0</th>\n",
       "      <td>41</td>\n",
       "      <td>1102</td>\n",
       "      <td>1</td>\n",
       "      <td>0</td>\n",
       "      <td>94</td>\n",
       "      <td>7</td>\n",
       "      <td>4</td>\n",
       "      <td>5993</td>\n",
       "      <td>1</td>\n",
       "      <td>11</td>\n",
       "    </tr>\n",
       "    <tr>\n",
       "      <th>1</th>\n",
       "      <td>49</td>\n",
       "      <td>279</td>\n",
       "      <td>1</td>\n",
       "      <td>1</td>\n",
       "      <td>61</td>\n",
       "      <td>6</td>\n",
       "      <td>2</td>\n",
       "      <td>5130</td>\n",
       "      <td>0</td>\n",
       "      <td>23</td>\n",
       "    </tr>\n",
       "    <tr>\n",
       "      <th>2</th>\n",
       "      <td>37</td>\n",
       "      <td>1373</td>\n",
       "      <td>4</td>\n",
       "      <td>1</td>\n",
       "      <td>92</td>\n",
       "      <td>2</td>\n",
       "      <td>3</td>\n",
       "      <td>2090</td>\n",
       "      <td>1</td>\n",
       "      <td>15</td>\n",
       "    </tr>\n",
       "    <tr>\n",
       "      <th>3</th>\n",
       "      <td>33</td>\n",
       "      <td>1392</td>\n",
       "      <td>1</td>\n",
       "      <td>0</td>\n",
       "      <td>56</td>\n",
       "      <td>6</td>\n",
       "      <td>3</td>\n",
       "      <td>2909</td>\n",
       "      <td>1</td>\n",
       "      <td>11</td>\n",
       "    </tr>\n",
       "    <tr>\n",
       "      <th>4</th>\n",
       "      <td>27</td>\n",
       "      <td>591</td>\n",
       "      <td>3</td>\n",
       "      <td>1</td>\n",
       "      <td>40</td>\n",
       "      <td>2</td>\n",
       "      <td>2</td>\n",
       "      <td>3468</td>\n",
       "      <td>0</td>\n",
       "      <td>12</td>\n",
       "    </tr>\n",
       "  </tbody>\n",
       "</table>\n",
       "</div>"
      ],
      "text/plain": [
       "   Age  DailyRate  EducationField  Gender  HourlyRate  JobRole  \\\n",
       "0   41       1102               1       0          94        7   \n",
       "1   49        279               1       1          61        6   \n",
       "2   37       1373               4       1          92        2   \n",
       "3   33       1392               1       0          56        6   \n",
       "4   27        591               3       1          40        2   \n",
       "\n",
       "   JobSatisfaction  MonthlyIncome  OverTime  PercentSalaryHike  \n",
       "0                4           5993         1                 11  \n",
       "1                2           5130         0                 23  \n",
       "2                3           2090         1                 15  \n",
       "3                3           2909         1                 11  \n",
       "4                2           3468         0                 12  "
      ]
     },
     "execution_count": 67,
     "metadata": {},
     "output_type": "execute_result"
    }
   ],
   "source": [
    "df.head()"
   ]
  },
  {
   "cell_type": "code",
   "execution_count": 68,
   "id": "5b18039a",
   "metadata": {},
   "outputs": [
    {
     "data": {
      "text/plain": [
       "(712, 10)"
      ]
     },
     "execution_count": 68,
     "metadata": {},
     "output_type": "execute_result"
    }
   ],
   "source": [
    "df.shape"
   ]
  },
  {
   "cell_type": "code",
   "execution_count": 69,
   "id": "37495caa",
   "metadata": {},
   "outputs": [],
   "source": [
    "from sklearn.preprocessing import StandardScaler"
   ]
  },
  {
   "cell_type": "markdown",
   "id": "a96bbc9f",
   "metadata": {},
   "source": [
    "# Independent & Dependent"
   ]
  },
  {
   "cell_type": "code",
   "execution_count": 70,
   "id": "15525ace",
   "metadata": {},
   "outputs": [],
   "source": [
    "x=df.iloc[:,:9]"
   ]
  },
  {
   "cell_type": "code",
   "execution_count": 71,
   "id": "91514add",
   "metadata": {},
   "outputs": [
    {
     "data": {
      "text/html": [
       "<div>\n",
       "<style scoped>\n",
       "    .dataframe tbody tr th:only-of-type {\n",
       "        vertical-align: middle;\n",
       "    }\n",
       "\n",
       "    .dataframe tbody tr th {\n",
       "        vertical-align: top;\n",
       "    }\n",
       "\n",
       "    .dataframe thead th {\n",
       "        text-align: right;\n",
       "    }\n",
       "</style>\n",
       "<table border=\"1\" class=\"dataframe\">\n",
       "  <thead>\n",
       "    <tr style=\"text-align: right;\">\n",
       "      <th></th>\n",
       "      <th>Age</th>\n",
       "      <th>DailyRate</th>\n",
       "      <th>EducationField</th>\n",
       "      <th>Gender</th>\n",
       "      <th>HourlyRate</th>\n",
       "      <th>JobRole</th>\n",
       "      <th>JobSatisfaction</th>\n",
       "      <th>MonthlyIncome</th>\n",
       "      <th>OverTime</th>\n",
       "    </tr>\n",
       "  </thead>\n",
       "  <tbody>\n",
       "    <tr>\n",
       "      <th>0</th>\n",
       "      <td>41</td>\n",
       "      <td>1102</td>\n",
       "      <td>1</td>\n",
       "      <td>0</td>\n",
       "      <td>94</td>\n",
       "      <td>7</td>\n",
       "      <td>4</td>\n",
       "      <td>5993</td>\n",
       "      <td>1</td>\n",
       "    </tr>\n",
       "    <tr>\n",
       "      <th>1</th>\n",
       "      <td>49</td>\n",
       "      <td>279</td>\n",
       "      <td>1</td>\n",
       "      <td>1</td>\n",
       "      <td>61</td>\n",
       "      <td>6</td>\n",
       "      <td>2</td>\n",
       "      <td>5130</td>\n",
       "      <td>0</td>\n",
       "    </tr>\n",
       "    <tr>\n",
       "      <th>2</th>\n",
       "      <td>37</td>\n",
       "      <td>1373</td>\n",
       "      <td>4</td>\n",
       "      <td>1</td>\n",
       "      <td>92</td>\n",
       "      <td>2</td>\n",
       "      <td>3</td>\n",
       "      <td>2090</td>\n",
       "      <td>1</td>\n",
       "    </tr>\n",
       "    <tr>\n",
       "      <th>3</th>\n",
       "      <td>33</td>\n",
       "      <td>1392</td>\n",
       "      <td>1</td>\n",
       "      <td>0</td>\n",
       "      <td>56</td>\n",
       "      <td>6</td>\n",
       "      <td>3</td>\n",
       "      <td>2909</td>\n",
       "      <td>1</td>\n",
       "    </tr>\n",
       "    <tr>\n",
       "      <th>4</th>\n",
       "      <td>27</td>\n",
       "      <td>591</td>\n",
       "      <td>3</td>\n",
       "      <td>1</td>\n",
       "      <td>40</td>\n",
       "      <td>2</td>\n",
       "      <td>2</td>\n",
       "      <td>3468</td>\n",
       "      <td>0</td>\n",
       "    </tr>\n",
       "    <tr>\n",
       "      <th>...</th>\n",
       "      <td>...</td>\n",
       "      <td>...</td>\n",
       "      <td>...</td>\n",
       "      <td>...</td>\n",
       "      <td>...</td>\n",
       "      <td>...</td>\n",
       "      <td>...</td>\n",
       "      <td>...</td>\n",
       "      <td>...</td>\n",
       "    </tr>\n",
       "    <tr>\n",
       "      <th>707</th>\n",
       "      <td>47</td>\n",
       "      <td>1379</td>\n",
       "      <td>3</td>\n",
       "      <td>1</td>\n",
       "      <td>64</td>\n",
       "      <td>4</td>\n",
       "      <td>3</td>\n",
       "      <td>5067</td>\n",
       "      <td>1</td>\n",
       "    </tr>\n",
       "    <tr>\n",
       "      <th>708</th>\n",
       "      <td>36</td>\n",
       "      <td>1229</td>\n",
       "      <td>5</td>\n",
       "      <td>1</td>\n",
       "      <td>84</td>\n",
       "      <td>7</td>\n",
       "      <td>4</td>\n",
       "      <td>5079</td>\n",
       "      <td>0</td>\n",
       "    </tr>\n",
       "    <tr>\n",
       "      <th>709</th>\n",
       "      <td>31</td>\n",
       "      <td>335</td>\n",
       "      <td>3</td>\n",
       "      <td>1</td>\n",
       "      <td>46</td>\n",
       "      <td>6</td>\n",
       "      <td>1</td>\n",
       "      <td>2321</td>\n",
       "      <td>1</td>\n",
       "    </tr>\n",
       "    <tr>\n",
       "      <th>710</th>\n",
       "      <td>33</td>\n",
       "      <td>722</td>\n",
       "      <td>1</td>\n",
       "      <td>1</td>\n",
       "      <td>38</td>\n",
       "      <td>3</td>\n",
       "      <td>3</td>\n",
       "      <td>17444</td>\n",
       "      <td>0</td>\n",
       "    </tr>\n",
       "    <tr>\n",
       "      <th>711</th>\n",
       "      <td>29</td>\n",
       "      <td>906</td>\n",
       "      <td>1</td>\n",
       "      <td>0</td>\n",
       "      <td>92</td>\n",
       "      <td>6</td>\n",
       "      <td>1</td>\n",
       "      <td>2404</td>\n",
       "      <td>1</td>\n",
       "    </tr>\n",
       "  </tbody>\n",
       "</table>\n",
       "<p>712 rows × 9 columns</p>\n",
       "</div>"
      ],
      "text/plain": [
       "     Age  DailyRate  EducationField  Gender  HourlyRate  JobRole  \\\n",
       "0     41       1102               1       0          94        7   \n",
       "1     49        279               1       1          61        6   \n",
       "2     37       1373               4       1          92        2   \n",
       "3     33       1392               1       0          56        6   \n",
       "4     27        591               3       1          40        2   \n",
       "..   ...        ...             ...     ...         ...      ...   \n",
       "707   47       1379               3       1          64        4   \n",
       "708   36       1229               5       1          84        7   \n",
       "709   31        335               3       1          46        6   \n",
       "710   33        722               1       1          38        3   \n",
       "711   29        906               1       0          92        6   \n",
       "\n",
       "     JobSatisfaction  MonthlyIncome  OverTime  \n",
       "0                  4           5993         1  \n",
       "1                  2           5130         0  \n",
       "2                  3           2090         1  \n",
       "3                  3           2909         1  \n",
       "4                  2           3468         0  \n",
       "..               ...            ...       ...  \n",
       "707                3           5067         1  \n",
       "708                4           5079         0  \n",
       "709                1           2321         1  \n",
       "710                3          17444         0  \n",
       "711                1           2404         1  \n",
       "\n",
       "[712 rows x 9 columns]"
      ]
     },
     "execution_count": 71,
     "metadata": {},
     "output_type": "execute_result"
    }
   ],
   "source": [
    "x"
   ]
  },
  {
   "cell_type": "code",
   "execution_count": 72,
   "id": "d057ec15",
   "metadata": {},
   "outputs": [],
   "source": [
    "y=df.iloc[:,9:]"
   ]
  },
  {
   "cell_type": "code",
   "execution_count": 73,
   "id": "1661d424",
   "metadata": {},
   "outputs": [
    {
     "data": {
      "text/html": [
       "<div>\n",
       "<style scoped>\n",
       "    .dataframe tbody tr th:only-of-type {\n",
       "        vertical-align: middle;\n",
       "    }\n",
       "\n",
       "    .dataframe tbody tr th {\n",
       "        vertical-align: top;\n",
       "    }\n",
       "\n",
       "    .dataframe thead th {\n",
       "        text-align: right;\n",
       "    }\n",
       "</style>\n",
       "<table border=\"1\" class=\"dataframe\">\n",
       "  <thead>\n",
       "    <tr style=\"text-align: right;\">\n",
       "      <th></th>\n",
       "      <th>PercentSalaryHike</th>\n",
       "    </tr>\n",
       "  </thead>\n",
       "  <tbody>\n",
       "    <tr>\n",
       "      <th>0</th>\n",
       "      <td>11</td>\n",
       "    </tr>\n",
       "    <tr>\n",
       "      <th>1</th>\n",
       "      <td>23</td>\n",
       "    </tr>\n",
       "    <tr>\n",
       "      <th>2</th>\n",
       "      <td>15</td>\n",
       "    </tr>\n",
       "    <tr>\n",
       "      <th>3</th>\n",
       "      <td>11</td>\n",
       "    </tr>\n",
       "    <tr>\n",
       "      <th>4</th>\n",
       "      <td>12</td>\n",
       "    </tr>\n",
       "    <tr>\n",
       "      <th>...</th>\n",
       "      <td>...</td>\n",
       "    </tr>\n",
       "    <tr>\n",
       "      <th>707</th>\n",
       "      <td>19</td>\n",
       "    </tr>\n",
       "    <tr>\n",
       "      <th>708</th>\n",
       "      <td>13</td>\n",
       "    </tr>\n",
       "    <tr>\n",
       "      <th>709</th>\n",
       "      <td>22</td>\n",
       "    </tr>\n",
       "    <tr>\n",
       "      <th>710</th>\n",
       "      <td>11</td>\n",
       "    </tr>\n",
       "    <tr>\n",
       "      <th>711</th>\n",
       "      <td>20</td>\n",
       "    </tr>\n",
       "  </tbody>\n",
       "</table>\n",
       "<p>712 rows × 1 columns</p>\n",
       "</div>"
      ],
      "text/plain": [
       "     PercentSalaryHike\n",
       "0                   11\n",
       "1                   23\n",
       "2                   15\n",
       "3                   11\n",
       "4                   12\n",
       "..                 ...\n",
       "707                 19\n",
       "708                 13\n",
       "709                 22\n",
       "710                 11\n",
       "711                 20\n",
       "\n",
       "[712 rows x 1 columns]"
      ]
     },
     "execution_count": 73,
     "metadata": {},
     "output_type": "execute_result"
    }
   ],
   "source": [
    "y"
   ]
  },
  {
   "cell_type": "code",
   "execution_count": 74,
   "id": "e2340a8e",
   "metadata": {},
   "outputs": [],
   "source": [
    "ss=StandardScaler()\n",
    "x=ss.fit_transform(x)\n",
    "y=ss.fit_transform(y)"
   ]
  },
  {
   "cell_type": "code",
   "execution_count": 75,
   "id": "5b39ffa0",
   "metadata": {},
   "outputs": [
    {
     "data": {
      "text/plain": [
       "(712, 9)"
      ]
     },
     "execution_count": 75,
     "metadata": {},
     "output_type": "execute_result"
    }
   ],
   "source": [
    "x.shape"
   ]
  },
  {
   "cell_type": "code",
   "execution_count": 76,
   "id": "7190f91f",
   "metadata": {},
   "outputs": [
    {
     "data": {
      "text/plain": [
       "(712, 1)"
      ]
     },
     "execution_count": 76,
     "metadata": {},
     "output_type": "execute_result"
    }
   ],
   "source": [
    "y.shape"
   ]
  },
  {
   "cell_type": "code",
   "execution_count": 77,
   "id": "2d0c382b",
   "metadata": {},
   "outputs": [
    {
     "data": {
      "text/html": [
       "<div>\n",
       "<style scoped>\n",
       "    .dataframe tbody tr th:only-of-type {\n",
       "        vertical-align: middle;\n",
       "    }\n",
       "\n",
       "    .dataframe tbody tr th {\n",
       "        vertical-align: top;\n",
       "    }\n",
       "\n",
       "    .dataframe thead th {\n",
       "        text-align: right;\n",
       "    }\n",
       "</style>\n",
       "<table border=\"1\" class=\"dataframe\">\n",
       "  <thead>\n",
       "    <tr style=\"text-align: right;\">\n",
       "      <th></th>\n",
       "      <th>0</th>\n",
       "      <th>1</th>\n",
       "      <th>2</th>\n",
       "      <th>3</th>\n",
       "      <th>4</th>\n",
       "      <th>5</th>\n",
       "      <th>6</th>\n",
       "      <th>7</th>\n",
       "      <th>8</th>\n",
       "    </tr>\n",
       "  </thead>\n",
       "  <tbody>\n",
       "    <tr>\n",
       "      <th>0</th>\n",
       "      <td>0.443223</td>\n",
       "      <td>0.700431</td>\n",
       "      <td>-0.947277</td>\n",
       "      <td>-1.209821</td>\n",
       "      <td>1.424281</td>\n",
       "      <td>1.004931</td>\n",
       "      <td>1.099686</td>\n",
       "      <td>-0.095904</td>\n",
       "      <td>1.546116</td>\n",
       "    </tr>\n",
       "    <tr>\n",
       "      <th>1</th>\n",
       "      <td>1.302222</td>\n",
       "      <td>-1.334179</td>\n",
       "      <td>-0.947277</td>\n",
       "      <td>0.826568</td>\n",
       "      <td>-0.190977</td>\n",
       "      <td>0.592770</td>\n",
       "      <td>-0.714860</td>\n",
       "      <td>-0.281245</td>\n",
       "      <td>-0.646782</td>\n",
       "    </tr>\n",
       "    <tr>\n",
       "      <th>2</th>\n",
       "      <td>0.013723</td>\n",
       "      <td>1.370394</td>\n",
       "      <td>1.328746</td>\n",
       "      <td>0.826568</td>\n",
       "      <td>1.326387</td>\n",
       "      <td>-1.055872</td>\n",
       "      <td>0.192413</td>\n",
       "      <td>-0.934125</td>\n",
       "      <td>1.546116</td>\n",
       "    </tr>\n",
       "    <tr>\n",
       "      <th>3</th>\n",
       "      <td>-0.415776</td>\n",
       "      <td>1.417365</td>\n",
       "      <td>-0.947277</td>\n",
       "      <td>-1.209821</td>\n",
       "      <td>-0.435713</td>\n",
       "      <td>0.592770</td>\n",
       "      <td>0.192413</td>\n",
       "      <td>-0.758234</td>\n",
       "      <td>1.546116</td>\n",
       "    </tr>\n",
       "    <tr>\n",
       "      <th>4</th>\n",
       "      <td>-1.060025</td>\n",
       "      <td>-0.562857</td>\n",
       "      <td>0.570071</td>\n",
       "      <td>0.826568</td>\n",
       "      <td>-1.218868</td>\n",
       "      <td>-1.055872</td>\n",
       "      <td>-0.714860</td>\n",
       "      <td>-0.638181</td>\n",
       "      <td>-0.646782</td>\n",
       "    </tr>\n",
       "  </tbody>\n",
       "</table>\n",
       "</div>"
      ],
      "text/plain": [
       "          0         1         2         3         4         5         6  \\\n",
       "0  0.443223  0.700431 -0.947277 -1.209821  1.424281  1.004931  1.099686   \n",
       "1  1.302222 -1.334179 -0.947277  0.826568 -0.190977  0.592770 -0.714860   \n",
       "2  0.013723  1.370394  1.328746  0.826568  1.326387 -1.055872  0.192413   \n",
       "3 -0.415776  1.417365 -0.947277 -1.209821 -0.435713  0.592770  0.192413   \n",
       "4 -1.060025 -0.562857  0.570071  0.826568 -1.218868 -1.055872 -0.714860   \n",
       "\n",
       "          7         8  \n",
       "0 -0.095904  1.546116  \n",
       "1 -0.281245 -0.646782  \n",
       "2 -0.934125  1.546116  \n",
       "3 -0.758234  1.546116  \n",
       "4 -0.638181 -0.646782  "
      ]
     },
     "execution_count": 77,
     "metadata": {},
     "output_type": "execute_result"
    }
   ],
   "source": [
    "x=pd.DataFrame(x)\n",
    "x.head()"
   ]
  },
  {
   "cell_type": "code",
   "execution_count": 78,
   "id": "a21b0a4e",
   "metadata": {},
   "outputs": [
    {
     "data": {
      "text/html": [
       "<div>\n",
       "<style scoped>\n",
       "    .dataframe tbody tr th:only-of-type {\n",
       "        vertical-align: middle;\n",
       "    }\n",
       "\n",
       "    .dataframe tbody tr th {\n",
       "        vertical-align: top;\n",
       "    }\n",
       "\n",
       "    .dataframe thead th {\n",
       "        text-align: right;\n",
       "    }\n",
       "</style>\n",
       "<table border=\"1\" class=\"dataframe\">\n",
       "  <thead>\n",
       "    <tr style=\"text-align: right;\">\n",
       "      <th></th>\n",
       "      <th>0</th>\n",
       "    </tr>\n",
       "  </thead>\n",
       "  <tbody>\n",
       "    <tr>\n",
       "      <th>0</th>\n",
       "      <td>-1.150053</td>\n",
       "    </tr>\n",
       "    <tr>\n",
       "      <th>1</th>\n",
       "      <td>2.065279</td>\n",
       "    </tr>\n",
       "    <tr>\n",
       "      <th>2</th>\n",
       "      <td>-0.078276</td>\n",
       "    </tr>\n",
       "    <tr>\n",
       "      <th>3</th>\n",
       "      <td>-1.150053</td>\n",
       "    </tr>\n",
       "    <tr>\n",
       "      <th>4</th>\n",
       "      <td>-0.882109</td>\n",
       "    </tr>\n",
       "  </tbody>\n",
       "</table>\n",
       "</div>"
      ],
      "text/plain": [
       "          0\n",
       "0 -1.150053\n",
       "1  2.065279\n",
       "2 -0.078276\n",
       "3 -1.150053\n",
       "4 -0.882109"
      ]
     },
     "execution_count": 78,
     "metadata": {},
     "output_type": "execute_result"
    }
   ],
   "source": [
    "y=pd.DataFrame(y)\n",
    "y.head()"
   ]
  },
  {
   "cell_type": "markdown",
   "id": "f4ebfa09",
   "metadata": {},
   "source": [
    "# Train,Test & Split"
   ]
  },
  {
   "cell_type": "code",
   "execution_count": 79,
   "id": "d5524288",
   "metadata": {},
   "outputs": [],
   "source": [
    "from sklearn.model_selection import train_test_split\n",
    "x_train,x_test,y_train,y_test=train_test_split(x,y,test_size=0.2,random_state=0)"
   ]
  },
  {
   "cell_type": "code",
   "execution_count": 80,
   "id": "d0d9f551",
   "metadata": {},
   "outputs": [
    {
     "name": "stdout",
     "output_type": "stream",
     "text": [
      "(569, 9)\n",
      "(143, 9)\n",
      "(569, 1)\n",
      "(143, 1)\n"
     ]
    }
   ],
   "source": [
    "print(x_train.shape)\n",
    "print(x_test.shape)\n",
    "print(y_train.shape)\n",
    "print(y_test.shape)"
   ]
  },
  {
   "cell_type": "code",
   "execution_count": 81,
   "id": "8f434b41",
   "metadata": {},
   "outputs": [
    {
     "data": {
      "text/html": [
       "<div>\n",
       "<style scoped>\n",
       "    .dataframe tbody tr th:only-of-type {\n",
       "        vertical-align: middle;\n",
       "    }\n",
       "\n",
       "    .dataframe tbody tr th {\n",
       "        vertical-align: top;\n",
       "    }\n",
       "\n",
       "    .dataframe thead th {\n",
       "        text-align: right;\n",
       "    }\n",
       "</style>\n",
       "<table border=\"1\" class=\"dataframe\">\n",
       "  <thead>\n",
       "    <tr style=\"text-align: right;\">\n",
       "      <th></th>\n",
       "      <th>0</th>\n",
       "      <th>1</th>\n",
       "      <th>2</th>\n",
       "      <th>3</th>\n",
       "      <th>4</th>\n",
       "      <th>5</th>\n",
       "      <th>6</th>\n",
       "      <th>7</th>\n",
       "      <th>8</th>\n",
       "    </tr>\n",
       "  </thead>\n",
       "  <tbody>\n",
       "    <tr>\n",
       "      <th>691</th>\n",
       "      <td>0.335848</td>\n",
       "      <td>1.607724</td>\n",
       "      <td>0.570071</td>\n",
       "      <td>0.826568</td>\n",
       "      <td>-1.463604</td>\n",
       "      <td>0.592770</td>\n",
       "      <td>-0.714860</td>\n",
       "      <td>-0.606181</td>\n",
       "      <td>1.546116</td>\n",
       "    </tr>\n",
       "    <tr>\n",
       "      <th>266</th>\n",
       "      <td>-0.630526</td>\n",
       "      <td>1.592891</td>\n",
       "      <td>0.570071</td>\n",
       "      <td>0.826568</td>\n",
       "      <td>-0.044135</td>\n",
       "      <td>-1.880194</td>\n",
       "      <td>1.099686</td>\n",
       "      <td>-0.184172</td>\n",
       "      <td>-0.646782</td>\n",
       "    </tr>\n",
       "    <tr>\n",
       "      <th>17</th>\n",
       "      <td>-1.596900</td>\n",
       "      <td>0.752347</td>\n",
       "      <td>0.570071</td>\n",
       "      <td>0.826568</td>\n",
       "      <td>1.522176</td>\n",
       "      <td>-1.055872</td>\n",
       "      <td>1.099686</td>\n",
       "      <td>-0.752650</td>\n",
       "      <td>1.546116</td>\n",
       "    </tr>\n",
       "    <tr>\n",
       "      <th>477</th>\n",
       "      <td>1.409597</td>\n",
       "      <td>1.056426</td>\n",
       "      <td>0.570071</td>\n",
       "      <td>0.826568</td>\n",
       "      <td>1.669017</td>\n",
       "      <td>-0.643712</td>\n",
       "      <td>-0.714860</td>\n",
       "      <td>2.525709</td>\n",
       "      <td>-0.646782</td>\n",
       "    </tr>\n",
       "    <tr>\n",
       "      <th>302</th>\n",
       "      <td>-0.952650</td>\n",
       "      <td>1.625029</td>\n",
       "      <td>0.570071</td>\n",
       "      <td>0.826568</td>\n",
       "      <td>0.151654</td>\n",
       "      <td>-1.880194</td>\n",
       "      <td>-1.622133</td>\n",
       "      <td>-0.167205</td>\n",
       "      <td>-0.646782</td>\n",
       "    </tr>\n",
       "    <tr>\n",
       "      <th>...</th>\n",
       "      <td>...</td>\n",
       "      <td>...</td>\n",
       "      <td>...</td>\n",
       "      <td>...</td>\n",
       "      <td>...</td>\n",
       "      <td>...</td>\n",
       "      <td>...</td>\n",
       "      <td>...</td>\n",
       "      <td>...</td>\n",
       "    </tr>\n",
       "    <tr>\n",
       "      <th>707</th>\n",
       "      <td>1.087472</td>\n",
       "      <td>1.385227</td>\n",
       "      <td>0.570071</td>\n",
       "      <td>0.826568</td>\n",
       "      <td>-0.044135</td>\n",
       "      <td>-0.231551</td>\n",
       "      <td>0.192413</td>\n",
       "      <td>-0.294775</td>\n",
       "      <td>1.546116</td>\n",
       "    </tr>\n",
       "    <tr>\n",
       "      <th>192</th>\n",
       "      <td>-0.201026</td>\n",
       "      <td>-0.649383</td>\n",
       "      <td>-0.947277</td>\n",
       "      <td>0.826568</td>\n",
       "      <td>-0.729396</td>\n",
       "      <td>-0.231551</td>\n",
       "      <td>0.192413</td>\n",
       "      <td>-0.112441</td>\n",
       "      <td>1.546116</td>\n",
       "    </tr>\n",
       "    <tr>\n",
       "      <th>629</th>\n",
       "      <td>-0.952650</td>\n",
       "      <td>0.866068</td>\n",
       "      <td>0.570071</td>\n",
       "      <td>0.826568</td>\n",
       "      <td>-0.093082</td>\n",
       "      <td>-1.468033</td>\n",
       "      <td>1.099686</td>\n",
       "      <td>-0.322909</td>\n",
       "      <td>-0.646782</td>\n",
       "    </tr>\n",
       "    <tr>\n",
       "      <th>559</th>\n",
       "      <td>0.121098</td>\n",
       "      <td>-1.361373</td>\n",
       "      <td>0.570071</td>\n",
       "      <td>0.826568</td>\n",
       "      <td>1.326387</td>\n",
       "      <td>0.592770</td>\n",
       "      <td>0.192413</td>\n",
       "      <td>-0.726449</td>\n",
       "      <td>1.546116</td>\n",
       "    </tr>\n",
       "    <tr>\n",
       "      <th>684</th>\n",
       "      <td>0.335848</td>\n",
       "      <td>-0.397220</td>\n",
       "      <td>-0.188603</td>\n",
       "      <td>0.826568</td>\n",
       "      <td>0.102707</td>\n",
       "      <td>1.004931</td>\n",
       "      <td>-0.714860</td>\n",
       "      <td>0.701297</td>\n",
       "      <td>-0.646782</td>\n",
       "    </tr>\n",
       "  </tbody>\n",
       "</table>\n",
       "<p>569 rows × 9 columns</p>\n",
       "</div>"
      ],
      "text/plain": [
       "            0         1         2         3         4         5         6  \\\n",
       "691  0.335848  1.607724  0.570071  0.826568 -1.463604  0.592770 -0.714860   \n",
       "266 -0.630526  1.592891  0.570071  0.826568 -0.044135 -1.880194  1.099686   \n",
       "17  -1.596900  0.752347  0.570071  0.826568  1.522176 -1.055872  1.099686   \n",
       "477  1.409597  1.056426  0.570071  0.826568  1.669017 -0.643712 -0.714860   \n",
       "302 -0.952650  1.625029  0.570071  0.826568  0.151654 -1.880194 -1.622133   \n",
       "..        ...       ...       ...       ...       ...       ...       ...   \n",
       "707  1.087472  1.385227  0.570071  0.826568 -0.044135 -0.231551  0.192413   \n",
       "192 -0.201026 -0.649383 -0.947277  0.826568 -0.729396 -0.231551  0.192413   \n",
       "629 -0.952650  0.866068  0.570071  0.826568 -0.093082 -1.468033  1.099686   \n",
       "559  0.121098 -1.361373  0.570071  0.826568  1.326387  0.592770  0.192413   \n",
       "684  0.335848 -0.397220 -0.188603  0.826568  0.102707  1.004931 -0.714860   \n",
       "\n",
       "            7         8  \n",
       "691 -0.606181  1.546116  \n",
       "266 -0.184172 -0.646782  \n",
       "17  -0.752650  1.546116  \n",
       "477  2.525709 -0.646782  \n",
       "302 -0.167205 -0.646782  \n",
       "..        ...       ...  \n",
       "707 -0.294775  1.546116  \n",
       "192 -0.112441  1.546116  \n",
       "629 -0.322909 -0.646782  \n",
       "559 -0.726449  1.546116  \n",
       "684  0.701297 -0.646782  \n",
       "\n",
       "[569 rows x 9 columns]"
      ]
     },
     "execution_count": 81,
     "metadata": {},
     "output_type": "execute_result"
    }
   ],
   "source": [
    "x_train"
   ]
  },
  {
   "cell_type": "markdown",
   "id": "cb47a6c9",
   "metadata": {},
   "source": [
    "# MultipLinearRegression"
   ]
  },
  {
   "cell_type": "code",
   "execution_count": 82,
   "id": "6147ab88",
   "metadata": {},
   "outputs": [],
   "source": [
    "from sklearn.linear_model import LinearRegression"
   ]
  },
  {
   "cell_type": "code",
   "execution_count": 83,
   "id": "c902410a",
   "metadata": {},
   "outputs": [
    {
     "data": {
      "text/plain": [
       "LinearRegression()"
      ]
     },
     "execution_count": 83,
     "metadata": {},
     "output_type": "execute_result"
    }
   ],
   "source": [
    "mlr=LinearRegression()\n",
    "mlr.fit(x_train,y_train)"
   ]
  },
  {
   "cell_type": "code",
   "execution_count": 84,
   "id": "16e8404b",
   "metadata": {},
   "outputs": [],
   "source": [
    "predict=mlr.predict(x_test)"
   ]
  },
  {
   "cell_type": "code",
   "execution_count": 86,
   "id": "4aaa5d7d",
   "metadata": {},
   "outputs": [
    {
     "data": {
      "text/plain": [
       "array([[ 0.01317792],\n",
       "       [-0.19520221],\n",
       "       [ 0.223062  ],\n",
       "       [-0.37822924],\n",
       "       [-0.15865769],\n",
       "       [ 0.17368479],\n",
       "       [-0.13434599],\n",
       "       [ 0.04688295],\n",
       "       [-0.03586259],\n",
       "       [ 0.09062889],\n",
       "       [-0.11751758],\n",
       "       [-0.31789284],\n",
       "       [-0.27211644],\n",
       "       [ 0.10296578],\n",
       "       [-0.08425833],\n",
       "       [ 0.08476233],\n",
       "       [ 0.16654079],\n",
       "       [ 0.1117545 ],\n",
       "       [-0.07595993],\n",
       "       [ 0.0694085 ],\n",
       "       [-0.05874564],\n",
       "       [ 0.01592268],\n",
       "       [ 0.02410008],\n",
       "       [-0.22134085],\n",
       "       [ 0.00942915],\n",
       "       [-0.0603375 ],\n",
       "       [ 0.02568295],\n",
       "       [-0.27950657],\n",
       "       [-0.23193433],\n",
       "       [-0.12068445],\n",
       "       [-0.10924482],\n",
       "       [-0.1708569 ],\n",
       "       [-0.17296936],\n",
       "       [ 0.01861257],\n",
       "       [-0.07574213],\n",
       "       [-0.12756437],\n",
       "       [ 0.11046962],\n",
       "       [-0.13253271],\n",
       "       [-0.22328019],\n",
       "       [-0.2803397 ],\n",
       "       [-0.00686504],\n",
       "       [ 0.02913255],\n",
       "       [ 0.10899931],\n",
       "       [-0.0954062 ],\n",
       "       [-0.16773372],\n",
       "       [-0.47476629],\n",
       "       [ 0.02928391],\n",
       "       [ 0.13625936],\n",
       "       [ 0.08815383],\n",
       "       [ 0.10042613],\n",
       "       [-0.27995465],\n",
       "       [ 0.08119881],\n",
       "       [ 0.08820765],\n",
       "       [-0.07492797],\n",
       "       [ 0.15624729],\n",
       "       [-0.0674934 ],\n",
       "       [ 0.12735301],\n",
       "       [-0.21608409],\n",
       "       [ 0.04896083],\n",
       "       [ 0.07322595],\n",
       "       [ 0.17983979],\n",
       "       [ 0.12700141],\n",
       "       [ 0.08637773],\n",
       "       [-0.22384294],\n",
       "       [ 0.16827903],\n",
       "       [-0.02496494],\n",
       "       [ 0.21595637],\n",
       "       [-0.02817325],\n",
       "       [ 0.04596762],\n",
       "       [ 0.05203893],\n",
       "       [-0.03635768],\n",
       "       [ 0.03536704],\n",
       "       [-0.11022128],\n",
       "       [-0.0316543 ],\n",
       "       [ 0.04072274],\n",
       "       [ 0.04660575],\n",
       "       [ 0.13786894],\n",
       "       [-0.03709135],\n",
       "       [ 0.05324482],\n",
       "       [ 0.02885845],\n",
       "       [ 0.12715492],\n",
       "       [-0.16811589],\n",
       "       [-0.13324008],\n",
       "       [-0.1435911 ],\n",
       "       [ 0.07606422],\n",
       "       [ 0.10999581],\n",
       "       [ 0.06499137],\n",
       "       [ 0.11077155],\n",
       "       [ 0.03972594],\n",
       "       [-0.07109917],\n",
       "       [-0.100861  ],\n",
       "       [ 0.05037587],\n",
       "       [ 0.17741346],\n",
       "       [ 0.09645704],\n",
       "       [ 0.00608733],\n",
       "       [ 0.09297244],\n",
       "       [-0.02570504],\n",
       "       [-0.0414121 ],\n",
       "       [-0.06149618],\n",
       "       [-0.37000746],\n",
       "       [ 0.20465217],\n",
       "       [ 0.02291801],\n",
       "       [-0.03448884],\n",
       "       [ 0.22250683],\n",
       "       [-0.1331828 ],\n",
       "       [ 0.21972364],\n",
       "       [ 0.04437494],\n",
       "       [ 0.03878845],\n",
       "       [ 0.01900178],\n",
       "       [-0.13868362],\n",
       "       [ 0.07022599],\n",
       "       [-0.09295571],\n",
       "       [-0.0194447 ],\n",
       "       [-0.54590635],\n",
       "       [-0.17940053],\n",
       "       [ 0.02972046],\n",
       "       [-0.23139924],\n",
       "       [ 0.12550304],\n",
       "       [ 0.15152442],\n",
       "       [-0.26604157],\n",
       "       [-0.00185254],\n",
       "       [ 0.01153215],\n",
       "       [-0.09743936],\n",
       "       [ 0.14619053],\n",
       "       [-0.00378479],\n",
       "       [-0.07666128],\n",
       "       [-0.2306447 ],\n",
       "       [ 0.24598485],\n",
       "       [ 0.12188349],\n",
       "       [ 0.18145928],\n",
       "       [-0.15528609],\n",
       "       [-0.27004669],\n",
       "       [ 0.16089879],\n",
       "       [ 0.09006416],\n",
       "       [ 0.22173401],\n",
       "       [ 0.03989342],\n",
       "       [ 0.14675392],\n",
       "       [ 0.19091517],\n",
       "       [-0.05340831],\n",
       "       [ 0.00519454],\n",
       "       [ 0.09737083],\n",
       "       [ 0.12881658],\n",
       "       [ 0.02647396]])"
      ]
     },
     "execution_count": 86,
     "metadata": {},
     "output_type": "execute_result"
    }
   ],
   "source": [
    "predict"
   ]
  },
  {
   "cell_type": "code",
   "execution_count": 87,
   "id": "6728cf4d",
   "metadata": {},
   "outputs": [
    {
     "data": {
      "text/html": [
       "<div>\n",
       "<style scoped>\n",
       "    .dataframe tbody tr th:only-of-type {\n",
       "        vertical-align: middle;\n",
       "    }\n",
       "\n",
       "    .dataframe tbody tr th {\n",
       "        vertical-align: top;\n",
       "    }\n",
       "\n",
       "    .dataframe thead th {\n",
       "        text-align: right;\n",
       "    }\n",
       "</style>\n",
       "<table border=\"1\" class=\"dataframe\">\n",
       "  <thead>\n",
       "    <tr style=\"text-align: right;\">\n",
       "      <th></th>\n",
       "      <th>0</th>\n",
       "    </tr>\n",
       "  </thead>\n",
       "  <tbody>\n",
       "    <tr>\n",
       "      <th>338</th>\n",
       "      <td>-0.614165</td>\n",
       "    </tr>\n",
       "    <tr>\n",
       "      <th>142</th>\n",
       "      <td>1.261446</td>\n",
       "    </tr>\n",
       "    <tr>\n",
       "      <th>242</th>\n",
       "      <td>0.189669</td>\n",
       "    </tr>\n",
       "    <tr>\n",
       "      <th>235</th>\n",
       "      <td>1.797335</td>\n",
       "    </tr>\n",
       "    <tr>\n",
       "      <th>468</th>\n",
       "      <td>-0.882109</td>\n",
       "    </tr>\n",
       "  </tbody>\n",
       "</table>\n",
       "</div>"
      ],
      "text/plain": [
       "            0\n",
       "338 -0.614165\n",
       "142  1.261446\n",
       "242  0.189669\n",
       "235  1.797335\n",
       "468 -0.882109"
      ]
     },
     "execution_count": 87,
     "metadata": {},
     "output_type": "execute_result"
    }
   ],
   "source": [
    "y_test.head()"
   ]
  },
  {
   "cell_type": "code",
   "execution_count": 88,
   "id": "c38b4889",
   "metadata": {},
   "outputs": [],
   "source": [
    "from sklearn.metrics import r2_score"
   ]
  },
  {
   "cell_type": "code",
   "execution_count": 89,
   "id": "8f8275b1",
   "metadata": {},
   "outputs": [
    {
     "data": {
      "text/plain": [
       "-49.985870621733525"
      ]
     },
     "execution_count": 89,
     "metadata": {},
     "output_type": "execute_result"
    }
   ],
   "source": [
    "r2_score(predict,y_test)"
   ]
  },
  {
   "cell_type": "code",
   "execution_count": 90,
   "id": "02e6c617",
   "metadata": {},
   "outputs": [
    {
     "data": {
      "text/plain": [
       "-45.26639469726915"
      ]
     },
     "execution_count": 90,
     "metadata": {},
     "output_type": "execute_result"
    }
   ],
   "source": [
    "r2_score(mlr.predict(x_train),y_train)"
   ]
  },
  {
   "cell_type": "markdown",
   "id": "378a6316",
   "metadata": {},
   "source": [
    "# Polynomial Linear Regression"
   ]
  },
  {
   "cell_type": "code",
   "execution_count": 91,
   "id": "68dd21c4",
   "metadata": {},
   "outputs": [],
   "source": [
    "from sklearn.preprocessing import PolynomialFeatures"
   ]
  },
  {
   "cell_type": "code",
   "execution_count": 92,
   "id": "9be50b4e",
   "metadata": {},
   "outputs": [],
   "source": [
    "pr=PolynomialFeatures(degree=6)\n",
    "px=pr.fit_transform(x)"
   ]
  },
  {
   "cell_type": "code",
   "execution_count": 93,
   "id": "a3b94eb0",
   "metadata": {},
   "outputs": [
    {
     "data": {
      "text/plain": [
       "array([[ 1.        ,  0.44322294,  0.70043109, ...,  0.05255853,\n",
       "        -0.84732149, 13.66008077],\n",
       "       [ 1.        ,  1.30222187, -1.33417909, ...,  0.01384203,\n",
       "         0.03183268,  0.07320601],\n",
       "       [ 1.        ,  0.01372347,  1.37039386, ...,  4.9863    ,\n",
       "        -8.25307584, 13.66008077],\n",
       "       [ 1.        , -0.41577599,  1.41736541, ...,  3.28529848,\n",
       "        -6.69906282, 13.66008077],\n",
       "       [ 1.        , -1.06002519, -0.56285664, ...,  0.07127198,\n",
       "         0.07223252,  0.07320601]])"
      ]
     },
     "execution_count": 93,
     "metadata": {},
     "output_type": "execute_result"
    }
   ],
   "source": [
    "px[:5]"
   ]
  },
  {
   "cell_type": "code",
   "execution_count": 94,
   "id": "2828a199",
   "metadata": {},
   "outputs": [
    {
     "data": {
      "text/plain": [
       "LinearRegression()"
      ]
     },
     "execution_count": 94,
     "metadata": {},
     "output_type": "execute_result"
    }
   ],
   "source": [
    "lr1=LinearRegression()\n",
    "lr1.fit(x_train,y_train)"
   ]
  },
  {
   "cell_type": "code",
   "execution_count": 95,
   "id": "145664f4",
   "metadata": {},
   "outputs": [
    {
     "data": {
      "text/plain": [
       "-49.985870621733525"
      ]
     },
     "execution_count": 95,
     "metadata": {},
     "output_type": "execute_result"
    }
   ],
   "source": [
    "r2_score(lr1.predict(x_test),y_test)"
   ]
  },
  {
   "cell_type": "code",
   "execution_count": null,
   "id": "8cab83da",
   "metadata": {},
   "outputs": [],
   "source": []
  }
 ],
 "metadata": {
  "kernelspec": {
   "display_name": "Python 3 (ipykernel)",
   "language": "python",
   "name": "python3"
  },
  "language_info": {
   "codemirror_mode": {
    "name": "ipython",
    "version": 3
   },
   "file_extension": ".py",
   "mimetype": "text/x-python",
   "name": "python",
   "nbconvert_exporter": "python",
   "pygments_lexer": "ipython3",
   "version": "3.9.7"
  }
 },
 "nbformat": 4,
 "nbformat_minor": 5
}
